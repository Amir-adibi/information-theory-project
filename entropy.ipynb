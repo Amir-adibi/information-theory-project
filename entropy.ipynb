{
 "cells": [
  {
   "cell_type": "markdown",
   "metadata": {},
   "source": [
    "# data extaction"
   ]
  },
  {
   "cell_type": "code",
   "execution_count": 3,
   "metadata": {},
   "outputs": [],
   "source": [
    "from math import log\n",
    "import pandas as pd # data processing, CSV file I/O (e.g. pd.read_csv)"
   ]
  },
  {
   "cell_type": "code",
   "execution_count": 4,
   "metadata": {
    "scrolled": true
   },
   "outputs": [
    {
     "data": {
      "text/html": [
       "<div>\n",
       "<style scoped>\n",
       "    .dataframe tbody tr th:only-of-type {\n",
       "        vertical-align: middle;\n",
       "    }\n",
       "\n",
       "    .dataframe tbody tr th {\n",
       "        vertical-align: top;\n",
       "    }\n",
       "\n",
       "    .dataframe thead th {\n",
       "        text-align: right;\n",
       "    }\n",
       "</style>\n",
       "<table border=\"1\" class=\"dataframe\">\n",
       "  <thead>\n",
       "    <tr style=\"text-align: right;\">\n",
       "      <th></th>\n",
       "      <th>Survived</th>\n",
       "      <th>Pclass</th>\n",
       "      <th>Name</th>\n",
       "      <th>Gender</th>\n",
       "      <th>Age</th>\n",
       "      <th>SibSp</th>\n",
       "      <th>Parch</th>\n",
       "      <th>Embarked</th>\n",
       "    </tr>\n",
       "  </thead>\n",
       "  <tbody>\n",
       "    <tr>\n",
       "      <th>0</th>\n",
       "      <td>Survived</td>\n",
       "      <td>Pclass</td>\n",
       "      <td>Name</td>\n",
       "      <td>Gender</td>\n",
       "      <td>Age</td>\n",
       "      <td>SibSp</td>\n",
       "      <td>Parch</td>\n",
       "      <td>Embarked</td>\n",
       "    </tr>\n",
       "    <tr>\n",
       "      <th>1</th>\n",
       "      <td>0</td>\n",
       "      <td>3</td>\n",
       "      <td>Braund, Mr. Owen Harris</td>\n",
       "      <td>male</td>\n",
       "      <td>22</td>\n",
       "      <td>1</td>\n",
       "      <td>0</td>\n",
       "      <td>S</td>\n",
       "    </tr>\n",
       "    <tr>\n",
       "      <th>2</th>\n",
       "      <td>1</td>\n",
       "      <td>1</td>\n",
       "      <td>Cumings, Mrs. John Bradley (Florence Briggs Th...</td>\n",
       "      <td>female</td>\n",
       "      <td>38</td>\n",
       "      <td>1</td>\n",
       "      <td>0</td>\n",
       "      <td>C</td>\n",
       "    </tr>\n",
       "    <tr>\n",
       "      <th>3</th>\n",
       "      <td>1</td>\n",
       "      <td>3</td>\n",
       "      <td>Heikkinen, Miss. Laina</td>\n",
       "      <td>female</td>\n",
       "      <td>26</td>\n",
       "      <td>0</td>\n",
       "      <td>0</td>\n",
       "      <td>S</td>\n",
       "    </tr>\n",
       "    <tr>\n",
       "      <th>4</th>\n",
       "      <td>1</td>\n",
       "      <td>1</td>\n",
       "      <td>Futrelle, Mrs. Jacques Heath (Lily May Peel)</td>\n",
       "      <td>female</td>\n",
       "      <td>35</td>\n",
       "      <td>1</td>\n",
       "      <td>0</td>\n",
       "      <td>S</td>\n",
       "    </tr>\n",
       "    <tr>\n",
       "      <th>5</th>\n",
       "      <td>0</td>\n",
       "      <td>3</td>\n",
       "      <td>Allen, Mr. William Henry</td>\n",
       "      <td>male</td>\n",
       "      <td>35</td>\n",
       "      <td>0</td>\n",
       "      <td>0</td>\n",
       "      <td>S</td>\n",
       "    </tr>\n",
       "    <tr>\n",
       "      <th>6</th>\n",
       "      <td>0</td>\n",
       "      <td>3</td>\n",
       "      <td>Moran, Mr. James</td>\n",
       "      <td>male</td>\n",
       "      <td></td>\n",
       "      <td>0</td>\n",
       "      <td>0</td>\n",
       "      <td>Q</td>\n",
       "    </tr>\n",
       "    <tr>\n",
       "      <th>7</th>\n",
       "      <td>0</td>\n",
       "      <td>1</td>\n",
       "      <td>McCarthy, Mr. Timothy J</td>\n",
       "      <td>male</td>\n",
       "      <td>54</td>\n",
       "      <td>0</td>\n",
       "      <td>0</td>\n",
       "      <td>S</td>\n",
       "    </tr>\n",
       "    <tr>\n",
       "      <th>8</th>\n",
       "      <td>0</td>\n",
       "      <td>3</td>\n",
       "      <td>Palsson, Master. Gosta Leonard</td>\n",
       "      <td>male</td>\n",
       "      <td>2</td>\n",
       "      <td>3</td>\n",
       "      <td>1</td>\n",
       "      <td>S</td>\n",
       "    </tr>\n",
       "    <tr>\n",
       "      <th>9</th>\n",
       "      <td>1</td>\n",
       "      <td>3</td>\n",
       "      <td>Johnson, Mrs. Oscar W (Elisabeth Vilhelmina Berg)</td>\n",
       "      <td>female</td>\n",
       "      <td>27</td>\n",
       "      <td>0</td>\n",
       "      <td>2</td>\n",
       "      <td>S</td>\n",
       "    </tr>\n",
       "  </tbody>\n",
       "</table>\n",
       "</div>"
      ],
      "text/plain": [
       "   Survived  Pclass                                               Name  \\\n",
       "0  Survived  Pclass                                               Name   \n",
       "1         0       3                            Braund, Mr. Owen Harris   \n",
       "2         1       1  Cumings, Mrs. John Bradley (Florence Briggs Th...   \n",
       "3         1       3                             Heikkinen, Miss. Laina   \n",
       "4         1       1       Futrelle, Mrs. Jacques Heath (Lily May Peel)   \n",
       "5         0       3                           Allen, Mr. William Henry   \n",
       "6         0       3                                   Moran, Mr. James   \n",
       "7         0       1                            McCarthy, Mr. Timothy J   \n",
       "8         0       3                     Palsson, Master. Gosta Leonard   \n",
       "9         1       3  Johnson, Mrs. Oscar W (Elisabeth Vilhelmina Berg)   \n",
       "\n",
       "   Gender  Age  SibSp  Parch  Embarked  \n",
       "0  Gender  Age  SibSp  Parch  Embarked  \n",
       "1    male   22      1      0         S  \n",
       "2  female   38      1      0         C  \n",
       "3  female   26      0      0         S  \n",
       "4  female   35      1      0         S  \n",
       "5    male   35      0      0         S  \n",
       "6    male           0      0         Q  \n",
       "7    male   54      0      0         S  \n",
       "8    male    2      3      1         S  \n",
       "9  female   27      0      2         S  "
      ]
     },
     "execution_count": 4,
     "metadata": {},
     "output_type": "execute_result"
    }
   ],
   "source": [
    "# get the data\n",
    "filename = 'train.csv'\n",
    "label_map = ['Not Survived', 'Survived']\n",
    "names=['Survived', 'Pclass', 'Name', 'Gender', 'Age', 'SibSp', 'Parch', 'Embarked']\n",
    "df=pd.read_csv('train.csv',names=names, na_filter=False)\n",
    "df.head(10)"
   ]
  },
  {
   "cell_type": "code",
   "execution_count": 5,
   "metadata": {},
   "outputs": [],
   "source": [
    "def normalizeAge(age):\n",
    "    if age == '':\n",
    "        return 3\n",
    "    age = int(float(age))\n",
    "    if age <= 2:\n",
    "        return 0\n",
    "    elif age <= 13:\n",
    "        return 1\n",
    "    elif age <= 24:\n",
    "        return 2\n",
    "    elif age <= 50:\n",
    "        return 3\n",
    "    return 4"
   ]
  },
  {
   "cell_type": "code",
   "execution_count": 6,
   "metadata": {},
   "outputs": [],
   "source": [
    "def normalizeEmbarked(embarked):\n",
    "    embarked = embarked[0]\n",
    "    if embarked == 'S':\n",
    "        return 0\n",
    "    elif embarked == 'Q':\n",
    "        return 1\n",
    "    return 2"
   ]
  },
  {
   "cell_type": "code",
   "execution_count": 10,
   "metadata": {},
   "outputs": [],
   "source": [
    "def getData():\n",
    "    global X\n",
    "    X = []\n",
    "    first = True\n",
    "    i = 0\n",
    "    for line in open(filename):\n",
    "        if first:\n",
    "            first = False\n",
    "        else:\n",
    "            row = line.split(',')\n",
    "            assert(len(row) == 9)\n",
    "            X.append(list())\n",
    "            \n",
    "            # Survived (index: 0)\n",
    "            X[i].append(int(row[0]))\n",
    "            # Pclass (index: 1)\n",
    "            X[i].append(int(row[1]) - 1)\n",
    "            # Gender (index: 2)\n",
    "            X[i].append(0) if row[4] == 'male' else X[i].append(1)\n",
    "            # Age (index: 3)\n",
    "            X[i].append(normalizeAge(row[5]))\n",
    "            # SibSP (index: 4)\n",
    "            X[i].append(int(row[6]))\n",
    "            # ParCh (index: 5)\n",
    "            X[i].append(int(row[7]))\n",
    "            # Embarked (index: 6)\n",
    "            X[i].append(normalizeEmbarked(row[8]))\n",
    "            i = i + 1"
   ]
  },
  {
   "cell_type": "code",
   "execution_count": 11,
   "metadata": {},
   "outputs": [],
   "source": [
    "getData()"
   ]
  },
  {
   "cell_type": "code",
   "execution_count": 12,
   "metadata": {},
   "outputs": [],
   "source": [
    "survived = 0\n",
    "notSurvived = 0\n",
    "for i in range(len(X)):\n",
    "    if X[i][0] == 0:\n",
    "        notSurvived += 1\n",
    "    else:\n",
    "        survived += 1"
   ]
  },
  {
   "cell_type": "code",
   "execution_count": 13,
   "metadata": {},
   "outputs": [],
   "source": [
    "def calPxi(index, value):\n",
    "    cnt = 0\n",
    "    for i in range(len(X)):\n",
    "        if X[i][index] == value:\n",
    "            cnt += 1\n",
    "    return cnt / len(X)"
   ]
  },
  {
   "cell_type": "code",
   "execution_count": 474,
   "metadata": {},
   "outputs": [],
   "source": [
    "def calHxi(index):\n",
    "    result = 0\n",
    "    for i in range(10):\n",
    "        Pxi = calPxi(index, i)\n",
    "        if Pxi > 0:\n",
    "            result -= Pxi * log(Pxi) / log(2)\n",
    "    return result"
   ]
  },
  {
   "cell_type": "code",
   "execution_count": 475,
   "metadata": {},
   "outputs": [],
   "source": [
    "def calPxy(xFactorIndex, xValue, yValue):\n",
    "    cnt = 0\n",
    "    for i in range(len(X)):\n",
    "        if X[i][0] == yValue and X[i][xFactorIndex] == xValue:\n",
    "            cnt += 1\n",
    "    return cnt / len(X) "
   ]
  },
  {
   "cell_type": "code",
   "execution_count": 476,
   "metadata": {},
   "outputs": [],
   "source": [
    "def calHxy(xFactorIndex):\n",
    "    result = 0\n",
    "    for i in range(10):\n",
    "        for j in range(2):\n",
    "            Pxy = calPxy(xFactorIndex, i, j)\n",
    "            if Pxy > 0:\n",
    "                result -= Pxy * log(Pxy) / log(2)\n",
    "    return result"
   ]
  },
  {
   "cell_type": "code",
   "execution_count": 477,
   "metadata": {},
   "outputs": [],
   "source": [
    "def calIPClass():\n",
    "    return calHxi(1) + calHxi(0) - calHxy(1)"
   ]
  },
  {
   "cell_type": "code",
   "execution_count": 478,
   "metadata": {},
   "outputs": [],
   "source": [
    "def calIGender():\n",
    "    return calHxi(2) + calHxi(0) - calHxy(2)"
   ]
  },
  {
   "cell_type": "code",
   "execution_count": 479,
   "metadata": {},
   "outputs": [],
   "source": [
    "def calIAge():\n",
    "    return calHxi(3) + calHxi(0) - calHxy(3)"
   ]
  },
  {
   "cell_type": "code",
   "execution_count": 480,
   "metadata": {},
   "outputs": [],
   "source": [
    "def calISibSp():\n",
    "    return calHxi(4) + calHxi(0) - calHxy(4)"
   ]
  },
  {
   "cell_type": "code",
   "execution_count": 481,
   "metadata": {},
   "outputs": [],
   "source": [
    "def calIParch():\n",
    "    return calHxi(5) + calHxi(0) - calHxy(5)"
   ]
  },
  {
   "cell_type": "code",
   "execution_count": 482,
   "metadata": {},
   "outputs": [],
   "source": [
    "def calIEmbark():\n",
    "    return calHxi(6) + calHxi(0) - calHxy(6)"
   ]
  },
  {
   "cell_type": "code",
   "execution_count": 485,
   "metadata": {},
   "outputs": [
    {
     "name": "stdout",
     "output_type": "stream",
     "text": [
      "I value for PClass: 0.08383104529601138\n",
      "I value for Gender: 0.21766010666061408\n",
      "I value for Age: 0.011278308150915795\n",
      "I value for SibSp: 0.03346632133870964\n",
      "I value for Parch: 0.023610547633470702\n",
      "I value for Embark: 0.02214740635533996\n"
     ]
    }
   ],
   "source": [
    "print(\"I value for PClass:\", calIPClass())\n",
    "print(\"I value for Gender:\", calIGender())\n",
    "print(\"I value for Age:\", calIAge())\n",
    "print(\"I value for SibSp:\", calISibSp())\n",
    "print(\"I value for Parch:\", calIParch())\n",
    "print(\"I value for Embark:\", calIEmbark())"
   ]
  },
  {
   "cell_type": "code",
   "execution_count": null,
   "metadata": {},
   "outputs": [],
   "source": []
  }
 ],
 "metadata": {
  "kernelspec": {
   "display_name": "tensorflow",
   "language": "python",
   "name": "tensorflow"
  },
  "language_info": {
   "codemirror_mode": {
    "name": "ipython",
    "version": 3
   },
   "file_extension": ".py",
   "mimetype": "text/x-python",
   "name": "python",
   "nbconvert_exporter": "python",
   "pygments_lexer": "ipython3",
   "version": "3.6.12"
  }
 },
 "nbformat": 4,
 "nbformat_minor": 4
}
